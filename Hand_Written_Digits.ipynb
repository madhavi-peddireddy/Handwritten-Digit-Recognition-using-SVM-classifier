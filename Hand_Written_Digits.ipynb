{
 "cells": [
  {
   "cell_type": "code",
   "execution_count": 1,
   "id": "0b0ab976",
   "metadata": {
    "id": "0b0ab976"
   },
   "outputs": [],
   "source": [
    "import numpy as np"
   ]
  },
  {
   "cell_type": "code",
   "execution_count": 2,
   "id": "7624cfa8",
   "metadata": {
    "id": "7624cfa8"
   },
   "outputs": [],
   "source": [
    "#Loading Dataset from Skleaarn\n",
    "from sklearn.datasets import load_digits "
   ]
  },
  {
   "cell_type": "code",
   "execution_count": 3,
   "id": "1b6a306b",
   "metadata": {
    "id": "1b6a306b"
   },
   "outputs": [],
   "source": [
    "dataset=load_digits()"
   ]
  },
  {
   "cell_type": "code",
   "execution_count": 4,
   "id": "abb19cbc",
   "metadata": {
    "colab": {
     "base_uri": "https://localhost:8080/"
    },
    "id": "abb19cbc",
    "outputId": "7d65bd6b-0e76-4f0c-c763-773edd0c3a0d"
   },
   "outputs": [
    {
     "name": "stdout",
     "output_type": "stream",
     "text": [
      "[[ 0.  0.  5. ...  0.  0.  0.]\n",
      " [ 0.  0.  0. ... 10.  0.  0.]\n",
      " [ 0.  0.  0. ... 16.  9.  0.]\n",
      " ...\n",
      " [ 0.  0.  1. ...  6.  0.  0.]\n",
      " [ 0.  0.  2. ... 12.  0.  0.]\n",
      " [ 0.  0. 10. ... 12.  1.  0.]]\n",
      "[0 1 2 ... 8 9 8]\n"
     ]
    }
   ],
   "source": [
    "#Summarize Dataset\n",
    "print(dataset.data)\n",
    "print(dataset.target)"
   ]
  },
  {
   "cell_type": "code",
   "execution_count": 5,
   "id": "35745b43",
   "metadata": {
    "colab": {
     "base_uri": "https://localhost:8080/"
    },
    "id": "35745b43",
    "outputId": "64f7da6b-5dbf-481f-c3f1-72b9d7aa96ab"
   },
   "outputs": [
    {
     "name": "stdout",
     "output_type": "stream",
     "text": [
      "(1797, 64)\n"
     ]
    }
   ],
   "source": [
    "print(dataset.data.shape)"
   ]
  },
  {
   "cell_type": "code",
   "execution_count": 6,
   "id": "b62f76b4",
   "metadata": {
    "colab": {
     "base_uri": "https://localhost:8080/"
    },
    "id": "b62f76b4",
    "outputId": "c98c44ca-ab20-42d5-c0d2-b4c2de9d1baf"
   },
   "outputs": [
    {
     "name": "stdout",
     "output_type": "stream",
     "text": [
      "(1797, 8, 8)\n"
     ]
    }
   ],
   "source": [
    "print(dataset.images.shape)"
   ]
  },
  {
   "cell_type": "code",
   "execution_count": 7,
   "id": "f734fc5b",
   "metadata": {
    "colab": {
     "base_uri": "https://localhost:8080/"
    },
    "id": "f734fc5b",
    "outputId": "ded717b2-61d7-433a-d559-0760fed008a3"
   },
   "outputs": [
    {
     "name": "stdout",
     "output_type": "stream",
     "text": [
      "1797\n"
     ]
    }
   ],
   "source": [
    "dataimageLength=len(dataset.images)\n",
    "print(dataimageLength)"
   ]
  },
  {
   "cell_type": "code",
   "execution_count": 8,
   "id": "82f73b7d",
   "metadata": {
    "colab": {
     "base_uri": "https://localhost:8080/",
     "height": 431
    },
    "id": "82f73b7d",
    "outputId": "88465336-2aca-4a5a-b858-79781e9a288a"
   },
   "outputs": [
    {
     "data": {
      "text/plain": [
       "<Figure size 432x288 with 0 Axes>"
      ]
     },
     "metadata": {},
     "output_type": "display_data"
    },
    {
     "data": {
      "image/png": "[encoded data removed]",
      "text/plain": [
       "<Figure size 288x288 with 1 Axes>"
      ]
     },
     "metadata": {
      "needs_background": "light"
     },
     "output_type": "display_data"
    },
    {
     "data": {
      "text/plain": [
       "array([[ 0.,  0.,  0., 10., 15.,  0.,  0.,  0.],\n",
       "       [ 0.,  0., 11., 15.,  3.,  0.,  0.,  0.],\n",
       "       [ 0.,  7., 15.,  4.,  0.,  0.,  0.,  0.],\n",
       "       [ 0., 12., 11.,  1.,  3.,  8.,  2.,  0.],\n",
       "       [ 0.,  4., 12., 15., 15., 16.,  9.,  0.],\n",
       "       [ 0.,  0.,  0.,  8., 16.,  8.,  2.,  0.],\n",
       "       [ 0.,  0.,  0., 10., 12.,  0.,  0.,  0.],\n",
       "       [ 0.,  0.,  0., 12.,  9.,  0.,  0.,  0.]])"
      ]
     },
     "execution_count": 8,
     "metadata": {},
     "output_type": "execute_result"
    }
   ],
   "source": [
    "#Visualize the Dataset\n",
    "n=110 # No of samples out of samples total 1797\n",
    "import matplotlib.pyplot as plt #data visualization\n",
    "plt.gray()\n",
    "plt.matshow(dataset.images[n])\n",
    "plt.show()\n",
    "dataset.images[n]"
   ]
  },
  {
   "cell_type": "code",
   "execution_count": 9,
   "id": "7144ecdf",
   "metadata": {
    "colab": {
     "base_uri": "https://localhost:8080/"
    },
    "id": "7144ecdf",
    "outputId": "53c1cdde-b23e-47ce-96fb-b88f4fa8e5db"
   },
   "outputs": [
    {
     "data": {
      "text/plain": [
       "array([[ 0.,  0.,  5., ...,  0.,  0.,  0.],\n",
       "       [ 0.,  0.,  0., ..., 10.,  0.,  0.],\n",
       "       [ 0.,  0.,  0., ..., 16.,  9.,  0.],\n",
       "       ...,\n",
       "       [ 0.,  0.,  1., ...,  6.,  0.,  0.],\n",
       "       [ 0.,  0.,  2., ..., 12.,  0.,  0.],\n",
       "       [ 0.,  0., 10., ..., 12.,  1.,  0.]])"
      ]
     },
     "execution_count": 9,
     "metadata": {},
     "output_type": "execute_result"
    }
   ],
   "source": [
    "#Segregaate Dataset into X & Y\n",
    "#X-(Input or Independent Variable)\n",
    "#Y-(Output ot Dependent Variable)\n",
    "\n",
    "X=dataset.images.reshape((dataimageLength,-1))\n",
    "X\n"
   ]
  },
  {
   "cell_type": "code",
   "execution_count": 10,
   "id": "ea93d6d3",
   "metadata": {
    "colab": {
     "base_uri": "https://localhost:8080/"
    },
    "id": "ea93d6d3",
    "outputId": "63f86a18-18a4-4dc9-a454-61ed90a8247f"
   },
   "outputs": [
    {
     "data": {
      "text/plain": [
       "array([0, 1, 2, ..., 8, 9, 8])"
      ]
     },
     "execution_count": 10,
     "metadata": {},
     "output_type": "execute_result"
    }
   ],
   "source": [
    "Y=dataset.target\n",
    "Y"
   ]
  },
  {
   "cell_type": "code",
   "execution_count": 11,
   "id": "f012c5a2",
   "metadata": {
    "colab": {
     "base_uri": "https://localhost:8080/"
    },
    "id": "f012c5a2",
    "outputId": "a07a34bc-8131-4425-8dee-a714808a0f82"
   },
   "outputs": [
    {
     "name": "stdout",
     "output_type": "stream",
     "text": [
      "(1347, 64)\n",
      "(450, 64)\n"
     ]
    }
   ],
   "source": [
    "#Splitting Dataset into Train & Test\n",
    "from sklearn.model_selection import train_test_split\n",
    "x_train, x_test, y_train, y_test=train_test_split(X,Y,test_size=0.25,random_state=0)\n",
    "print(x_train.shape)\n",
    "print(x_test.shape)"
   ]
  },
  {
   "cell_type": "code",
   "execution_count": 12,
   "id": "df694180",
   "metadata": {
    "colab": {
     "base_uri": "https://localhost:8080/"
    },
    "id": "df694180",
    "outputId": "d07622d6-c035-4bbf-8346-7950fb43e17f"
   },
   "outputs": [
    {
     "data": {
      "text/plain": [
       "SVC()"
      ]
     },
     "execution_count": 12,
     "metadata": {},
     "output_type": "execute_result"
    }
   ],
   "source": [
    "#Training\n",
    "from sklearn import svm\n",
    "model=svm.SVC()\n",
    "model.fit(x_train,y_train)"
   ]
  },
  {
   "cell_type": "code",
   "execution_count": 13,
   "id": "52bef438",
   "metadata": {
    "colab": {
     "base_uri": "https://localhost:8080/",
     "height": 316
    },
    "id": "52bef438",
    "outputId": "fe5c155e-60b1-4a70-cdaf-ea3e846c8a53"
   },
   "outputs": [
    {
     "name": "stdout",
     "output_type": "stream",
     "text": [
      "[0]\n",
      "\n",
      "\n"
     ]
    },
    {
     "data": {
      "image/png": "[encoded data removed]",
      "text/plain": [
       "<Figure size 432x288 with 1 Axes>"
      ]
     },
     "metadata": {
      "needs_background": "light"
     },
     "output_type": "display_data"
    }
   ],
   "source": [
    " #Predicting what the digit is from Test Data\n",
    "n=1205\n",
    "result=model.predict(dataset.images[n].reshape((1,-1)))\n",
    "plt.imshow(dataset.images[n],cmap=plt.cm.gray_r, interpolation='nearest')\n",
    "print(result)\n",
    "print(\"\\n\")\n",
    "plt.axis('off')\n",
    "plt.title('%i' %result)\n",
    "plt.show()\n"
   ]
  },
  {
   "cell_type": "code",
   "execution_count": 14,
   "id": "e8c2388e",
   "metadata": {
    "id": "e8c2388e"
   },
   "outputs": [],
   "source": [
    "#Prediction for Test Data\n",
    "y_pred=model.predict(x_test)"
   ]
  },
  {
   "cell_type": "code",
   "execution_count": 15,
   "id": "8fc8951f",
   "metadata": {
    "colab": {
     "base_uri": "https://localhost:8080/"
    },
    "id": "8fc8951f",
    "outputId": "98e89f65-bf36-4be0-df4c-3b15f9f12247"
   },
   "outputs": [
    {
     "name": "stdout",
     "output_type": "stream",
     "text": [
      "Accuracy of the Model:99.11111111111111%\n"
     ]
    }
   ],
   "source": [
    "#Evaluate Model- Accuracy Score\n",
    "\n",
    "from sklearn.metrics import accuracy_score\n",
    "print(\"Accuracy of the Model:{0}%\".format(accuracy_score(y_test,y_pred)*100))\n"
   ]
  },
  {
   "cell_type": "code",
   "execution_count": 16,
   "id": "29722a61",
   "metadata": {
    "colab": {
     "base_uri": "https://localhost:8080/"
    },
    "id": "29722a61",
    "outputId": "7bb7eb85-587e-417a-f605-f6369076757d"
   },
   "outputs": [
    {
     "name": "stdout",
     "output_type": "stream",
     "text": [
      "Accuracy of the Model 1:97.11111111111111%\n",
      "Accuracy of the Model 2:99.55555555555556%\n",
      "Accuracy of the Model 3:96.66666666666667%\n"
     ]
    }
   ],
   "source": [
    "#Different Methods\n",
    "from sklearn import svm\n",
    "model1=svm.SVC(kernel=\"linear\")\n",
    "model2=svm.SVC(gamma=0.001)\n",
    "model3=svm.SVC(gamma=0.001, C=0.1)\n",
    "\n",
    "\n",
    "model1.fit(x_train,y_train)\n",
    "model2.fit(x_train,y_train)\n",
    "model3.fit(x_train,y_train)\n",
    "\n",
    "y_predM1=model1.predict(x_test)\n",
    "y_predM2=model2.predict(x_test)\n",
    "y_predM3=model3.predict(x_test)\n",
    "\n",
    "print(\"Accuracy of the Model 1:{0}%\".format(accuracy_score(y_test,y_predM1)*100))\n",
    "print(\"Accuracy of the Model 2:{0}%\".format(accuracy_score(y_test,y_predM2)*100))\n",
    "print(\"Accuracy of the Model 3:{0}%\".format(accuracy_score(y_test,y_predM3)*100))\n",
    "\n"
   ]
  },
  {
   "cell_type": "code",
   "execution_count": null,
   "id": "e1440b3a",
   "metadata": {
    "id": "e1440b3a"
   },
   "outputs": [],
   "source": []
  },
  {
   "cell_type": "code",
   "execution_count": null,
   "id": "ddef87f5",
   "metadata": {
    "id": "ddef87f5"
   },
   "outputs": [],
   "source": []
  }
 ],
 "metadata": {
  "colab": {
   "provenance": []
  },
  "kernelspec": {
   "display_name": "Python 3 (ipykernel)",
   "language": "python",
   "name": "python3"
  },
  "language_info": {
   "codemirror_mode": {
    "name": "ipython",
    "version": 3
   },
   "file_extension": ".py",
   "mimetype": "text/x-python",
   "name": "python",
   "nbconvert_exporter": "python",
   "pygments_lexer": "ipython3",
   "version": "3.7.4"
  }
 },
 "nbformat": 4,
 "nbformat_minor": 5
}
